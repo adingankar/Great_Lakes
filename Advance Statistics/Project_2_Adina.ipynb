{
 "cells": [
  {
   "cell_type": "markdown",
   "metadata": {},
   "source": [
    "# Project on Hypothesis Testing\n",
    "\n",
    "The expectation of the Project is to \n",
    "1. Import pandas, numpy, ttest_ind, levene, shapiro, iqr, matplotlib.pyplot\n",
    "2. Get the data from excel\n",
    "3. Check for Descriptive Statistics\n",
    "4. Check if Shapiro and Levene test work fine for the data\n",
    "5. Calculate Pooled Standard Deviation\n",
    "6. Calculate Sample Power"
   ]
  },
  {
   "cell_type": "markdown",
   "metadata": {},
   "source": [
    "# Problem Statement\n",
    "Par Inc., is a major manufacturer of golf equipment. \n",
    "\n",
    "Management believes that Par’s market share could be increased with the introduction of a cut-resistant, longer-lasting golf ball. \n",
    "\n",
    "The data is given in the excel file with two attributes\n",
    "    1. Current : The ball that is in the market and is currently being used \n",
    "    2. New     : The newer version of the existing ball with better cut resistance\n",
    "Each Sample has 40 Observations that we taken\n",
    "\n",
    "Following solution has a few analysis to give a recommendation for Par Inc.,\n",
    "\n",
    "# Solution"
   ]
  },
  {
   "cell_type": "code",
   "execution_count": 6,
   "metadata": {},
   "outputs": [],
   "source": [
    "# import the required packages for the analysis.\n",
    "import numpy as np\n",
    "import pandas as pd\n",
    "from scipy.stats import ttest_ind, levene, shapiro ,iqr, mode\n",
    "import matplotlib.pyplot as plt"
   ]
  },
  {
   "cell_type": "code",
   "execution_count": 7,
   "metadata": {},
   "outputs": [],
   "source": [
    "#Get the data from excel using pandas package\n",
    "data = pd.read_excel('SM4-Golf (2).xls')"
   ]
  },
  {
   "cell_type": "code",
   "execution_count": 8,
   "metadata": {},
   "outputs": [
    {
     "data": {
      "text/html": [
       "<div>\n",
       "<style scoped>\n",
       "    .dataframe tbody tr th:only-of-type {\n",
       "        vertical-align: middle;\n",
       "    }\n",
       "\n",
       "    .dataframe tbody tr th {\n",
       "        vertical-align: top;\n",
       "    }\n",
       "\n",
       "    .dataframe thead th {\n",
       "        text-align: right;\n",
       "    }\n",
       "</style>\n",
       "<table border=\"1\" class=\"dataframe\">\n",
       "  <thead>\n",
       "    <tr style=\"text-align: right;\">\n",
       "      <th></th>\n",
       "      <th>Current</th>\n",
       "      <th>New</th>\n",
       "    </tr>\n",
       "  </thead>\n",
       "  <tbody>\n",
       "    <tr>\n",
       "      <th>0</th>\n",
       "      <td>264</td>\n",
       "      <td>277</td>\n",
       "    </tr>\n",
       "    <tr>\n",
       "      <th>1</th>\n",
       "      <td>261</td>\n",
       "      <td>269</td>\n",
       "    </tr>\n",
       "    <tr>\n",
       "      <th>2</th>\n",
       "      <td>267</td>\n",
       "      <td>263</td>\n",
       "    </tr>\n",
       "    <tr>\n",
       "      <th>3</th>\n",
       "      <td>272</td>\n",
       "      <td>266</td>\n",
       "    </tr>\n",
       "    <tr>\n",
       "      <th>4</th>\n",
       "      <td>258</td>\n",
       "      <td>262</td>\n",
       "    </tr>\n",
       "  </tbody>\n",
       "</table>\n",
       "</div>"
      ],
      "text/plain": [
       "   Current  New\n",
       "0      264  277\n",
       "1      261  269\n",
       "2      267  263\n",
       "3      272  266\n",
       "4      258  262"
      ]
     },
     "execution_count": 8,
     "metadata": {},
     "output_type": "execute_result"
    }
   ],
   "source": [
    "#display the data to have a visual check.\n",
    "#this also helps in understanding the data \n",
    "data.head()"
   ]
  },
  {
   "cell_type": "code",
   "execution_count": 9,
   "metadata": {},
   "outputs": [
    {
     "name": "stdout",
     "output_type": "stream",
     "text": [
      "<class 'pandas.core.frame.DataFrame'>\n",
      "RangeIndex: 40 entries, 0 to 39\n",
      "Data columns (total 2 columns):\n",
      "Current    40 non-null int64\n",
      "New        40 non-null int64\n",
      "dtypes: int64(2)\n",
      "memory usage: 720.0 bytes\n"
     ]
    }
   ],
   "source": [
    "#this helps to identify if there are any null values present in the data given\n",
    "data.info()"
   ]
  },
  {
   "cell_type": "code",
   "execution_count": 10,
   "metadata": {},
   "outputs": [
    {
     "data": {
      "text/html": [
       "<div>\n",
       "<style scoped>\n",
       "    .dataframe tbody tr th:only-of-type {\n",
       "        vertical-align: middle;\n",
       "    }\n",
       "\n",
       "    .dataframe tbody tr th {\n",
       "        vertical-align: top;\n",
       "    }\n",
       "\n",
       "    .dataframe thead th {\n",
       "        text-align: right;\n",
       "    }\n",
       "</style>\n",
       "<table border=\"1\" class=\"dataframe\">\n",
       "  <thead>\n",
       "    <tr style=\"text-align: right;\">\n",
       "      <th></th>\n",
       "      <th>Current</th>\n",
       "      <th>New</th>\n",
       "    </tr>\n",
       "  </thead>\n",
       "  <tbody>\n",
       "    <tr>\n",
       "      <th>count</th>\n",
       "      <td>40.000000</td>\n",
       "      <td>40.000000</td>\n",
       "    </tr>\n",
       "    <tr>\n",
       "      <th>mean</th>\n",
       "      <td>270.275000</td>\n",
       "      <td>267.500000</td>\n",
       "    </tr>\n",
       "    <tr>\n",
       "      <th>std</th>\n",
       "      <td>8.752985</td>\n",
       "      <td>9.896904</td>\n",
       "    </tr>\n",
       "    <tr>\n",
       "      <th>min</th>\n",
       "      <td>255.000000</td>\n",
       "      <td>250.000000</td>\n",
       "    </tr>\n",
       "    <tr>\n",
       "      <th>25%</th>\n",
       "      <td>263.000000</td>\n",
       "      <td>262.000000</td>\n",
       "    </tr>\n",
       "    <tr>\n",
       "      <th>50%</th>\n",
       "      <td>270.000000</td>\n",
       "      <td>265.000000</td>\n",
       "    </tr>\n",
       "    <tr>\n",
       "      <th>75%</th>\n",
       "      <td>275.250000</td>\n",
       "      <td>274.500000</td>\n",
       "    </tr>\n",
       "    <tr>\n",
       "      <th>max</th>\n",
       "      <td>289.000000</td>\n",
       "      <td>289.000000</td>\n",
       "    </tr>\n",
       "  </tbody>\n",
       "</table>\n",
       "</div>"
      ],
      "text/plain": [
       "          Current         New\n",
       "count   40.000000   40.000000\n",
       "mean   270.275000  267.500000\n",
       "std      8.752985    9.896904\n",
       "min    255.000000  250.000000\n",
       "25%    263.000000  262.000000\n",
       "50%    270.000000  265.000000\n",
       "75%    275.250000  274.500000\n",
       "max    289.000000  289.000000"
      ]
     },
     "execution_count": 10,
     "metadata": {},
     "output_type": "execute_result"
    }
   ],
   "source": [
    "#Describe function helps us to analyse the data\n",
    "#Descriptive Statistics\n",
    "data.describe()"
   ]
  },
  {
   "cell_type": "markdown",
   "metadata": {},
   "source": [
    "# Inferences from Descriptive Statistics\n",
    "\n",
    "Both the samples have the same number of Observations.\n",
    "\n",
    "1. It is observed that the average life of the golf ball is decreased in the New Sample\n",
    "2. The standard deviation is also increased in the new sample\n",
    "3. Not only the mean value is decreased, but the values on all the quartile is relatively decreased\n",
    "\n",
    "to be Continued...\n"
   ]
  },
  {
   "cell_type": "code",
   "execution_count": 11,
   "metadata": {},
   "outputs": [],
   "source": [
    "import seaborn as sns"
   ]
  },
  {
   "cell_type": "code",
   "execution_count": 12,
   "metadata": {},
   "outputs": [
    {
     "data": {
      "text/plain": [
       "<matplotlib.axes._subplots.AxesSubplot at 0x24afb207b38>"
      ]
     },
     "execution_count": 12,
     "metadata": {},
     "output_type": "execute_result"
    },
    {
     "data": {
      "image/png": "[encoded data removed]",
      "text/plain": [
       "<Figure size 432x288 with 1 Axes>"
      ]
     },
     "metadata": {
      "needs_background": "light"
     },
     "output_type": "display_data"
    }
   ],
   "source": [
    "sns.boxplot(data['Current'])"
   ]
  },
  {
   "cell_type": "code",
   "execution_count": 13,
   "metadata": {},
   "outputs": [
    {
     "data": {
      "text/plain": [
       "<matplotlib.axes._subplots.AxesSubplot at 0x24afc51bda0>"
      ]
     },
     "execution_count": 13,
     "metadata": {},
     "output_type": "execute_result"
    },
    {
     "data": {
      "image/png": "[encoded data removed]",
      "text/plain": [
       "<Figure size 432x288 with 1 Axes>"
      ]
     },
     "metadata": {
      "needs_background": "light"
     },
     "output_type": "display_data"
    }
   ],
   "source": [
    "sns.boxplot(data['New'])"
   ]
  },
  {
   "cell_type": "code",
   "execution_count": 14,
   "metadata": {},
   "outputs": [
    {
     "name": "stdout",
     "output_type": "stream",
     "text": [
      "12.25 , 12.5\n"
     ]
    }
   ],
   "source": [
    "a = iqr(data['Current'])\n",
    "b = iqr(data['New'])\n",
    "print(a ,',', b)"
   ]
  },
  {
   "cell_type": "code",
   "execution_count": 15,
   "metadata": {},
   "outputs": [
    {
     "name": "stderr",
     "output_type": "stream",
     "text": [
      "C:\\Users\\vvisw\\Anaconda3\\envs\\viswa\\lib\\site-packages\\scipy\\stats\\stats.py:1713: FutureWarning: Using a non-tuple sequence for multidimensional indexing is deprecated; use `arr[tuple(seq)]` instead of `arr[seq]`. In the future this will be interpreted as an array index, `arr[np.array(seq)]`, which will result either in an error or a different result.\n",
      "  return np.add.reduce(sorted[indexer] * weights, axis=axis) / sumval\n"
     ]
    },
    {
     "data": {
      "text/plain": [
       "<matplotlib.axes._subplots.AxesSubplot at 0x24afc5af780>"
      ]
     },
     "execution_count": 15,
     "metadata": {},
     "output_type": "execute_result"
    },
    {
     "data": {
      "image/png": "[encoded data removed]",
      "text/plain": [
       "<Figure size 432x288 with 1 Axes>"
      ]
     },
     "metadata": {
      "needs_background": "light"
     },
     "output_type": "display_data"
    }
   ],
   "source": [
    "sns.distplot(data['Current'],rug=True)"
   ]
  },
  {
   "cell_type": "code",
   "execution_count": 16,
   "metadata": {},
   "outputs": [
    {
     "data": {
      "text/plain": [
       "<matplotlib.axes._subplots.AxesSubplot at 0x24afc62dcf8>"
      ]
     },
     "execution_count": 16,
     "metadata": {},
     "output_type": "execute_result"
    },
    {
     "data": {
      "image/png": "[encoded data removed]",
      "text/plain": [
       "<Figure size 432x288 with 1 Axes>"
      ]
     },
     "metadata": {
      "needs_background": "light"
     },
     "output_type": "display_data"
    }
   ],
   "source": [
    "sns.distplot(data['New'],rug=True)"
   ]
  },
  {
   "cell_type": "code",
   "execution_count": 17,
   "metadata": {},
   "outputs": [
    {
     "data": {
      "text/plain": [
       "ModeResult(mode=array([263], dtype=int64), count=array([3]))"
      ]
     },
     "execution_count": 17,
     "metadata": {},
     "output_type": "execute_result"
    }
   ],
   "source": [
    "mode(data['Current'])"
   ]
  },
  {
   "cell_type": "code",
   "execution_count": 18,
   "metadata": {},
   "outputs": [
    {
     "data": {
      "text/plain": [
       "ModeResult(mode=array([262], dtype=int64), count=array([4]))"
      ]
     },
     "execution_count": 18,
     "metadata": {},
     "output_type": "execute_result"
    }
   ],
   "source": [
    "mode(data['New'])"
   ]
  },
  {
   "cell_type": "markdown",
   "metadata": {},
   "source": [
    "# Continuation of Inferences from Descriptive Statistics\n",
    "\n",
    "A few more Observations and Inferences from descriptive Statistics\n",
    "4. It is clearly seen from box plot that there are no outliers in both the samples\n",
    "5. By using the Inter-Quartile Range function it is clear that the range has increased 0.25 when compared with the Current sample\n",
    "6. When both the samples are plotted to visualize the graph, it is not a perfect bell- shaped normal distribution. In both the samples, the mean and median are nearly equal but there is a significant difference in the mode value.\n"
   ]
  },
  {
   "cell_type": "markdown",
   "metadata": {},
   "source": [
    "# Hypothesis Testing \n",
    "\n",
    "\n",
    "Since this is a parametric distribution and the samples are independent of each other we will carryout independent t-test for two or more samples.\n",
    "\n",
    "1. Null Hypothesis (H0)    : The Average time of new Golf ball is greater than or equal to the current golf ball (mu1 >= m2)\n",
    "2. Alternate Hypothesis(H1): The Average time of the new Golf ball is less than the current golf ball (mu1 < mu2)\n",
    "3. Level of Significance   : Test is to be carried out at 5% Level of Significance (Assumption)"
   ]
  },
  {
   "cell_type": "code",
   "execution_count": 19,
   "metadata": {},
   "outputs": [
    {
     "name": "stdout",
     "output_type": "stream",
     "text": [
      "1.3283615935245678 0.18798994530489838\n"
     ]
    }
   ],
   "source": [
    "t_statistic, p_value = ttest_ind(data['Current'], data['New'], equal_var=False)\n",
    "print(t_statistic,p_value)"
   ]
  },
  {
   "cell_type": "markdown",
   "metadata": {},
   "source": [
    "Since the p_value is more than 0.05 we accept the null hypothesis and reject the alternate Hypothesis."
   ]
  },
  {
   "cell_type": "markdown",
   "metadata": {},
   "source": [
    "To check if the variances are equal in the samples we are going to carryout levene test\n",
    "\n",
    "1. Null Hypothesis (H0)    : The Standard Deviation of new Golf ball is equal to the current golf ball (Sigma1 <= Sigma2)\n",
    "2. Alternate Hypothesis(H1): The Standard Deviation of new Golf ball is not equal to the current golf ball (Sigma1 > Sigma2)\n",
    "3. Level of Significance   : Test is to be carried out at 5% Level of Significance (Assumption)"
   ]
  },
  {
   "cell_type": "code",
   "execution_count": 20,
   "metadata": {},
   "outputs": [
    {
     "data": {
      "text/plain": [
       "LeveneResult(statistic=0.2553238291765741, pvalue=0.6147759523331309)"
      ]
     },
     "execution_count": 20,
     "metadata": {},
     "output_type": "execute_result"
    }
   ],
   "source": [
    "levene(data['Current'],data['New']) "
   ]
  },
  {
   "cell_type": "markdown",
   "metadata": {},
   "source": [
    "Since the p_value is greater that 0.05 we accept the null Hypothesis and reject the alternate Hypothesis"
   ]
  },
  {
   "cell_type": "code",
   "execution_count": 21,
   "metadata": {},
   "outputs": [
    {
     "name": "stdout",
     "output_type": "stream",
     "text": [
      "Shapiro Statistic 0.9707046747207642 and p-value 0.378787100315094\n",
      "Normal Distribution\n"
     ]
    }
   ],
   "source": [
    "statistic, pvalue = stats.shapiro(data['Current'])\n",
    "print(\"Shapiro Statistic \" + str(statistic) + \" and p-value \" + str(pvalue))\n",
    "if pvalue > 0.05:\n",
    "    print(\"Normal Distribution\")\n",
    "else:\n",
    "    print(\"Not normal\")\n"
   ]
  },
  {
   "cell_type": "code",
   "execution_count": 22,
   "metadata": {},
   "outputs": [
    {
     "name": "stdout",
     "output_type": "stream",
     "text": [
      "Shapiro Statistic 0.9678263664245605 and p-value 0.3064655363559723\n",
      "Normal Distribution\n"
     ]
    }
   ],
   "source": [
    "statistic, pvalue = stats.shapiro(data['New'])\n",
    "print(\"Shapiro Statistic \" + str(statistic) + \" and p-value \" + str(pvalue))\n",
    "if pvalue > 0.05:\n",
    "    print(\"Normal Distribution\")\n",
    "else:\n",
    "    print(\"Not normal\")\n"
   ]
  },
  {
   "cell_type": "markdown",
   "metadata": {},
   "source": [
    "Since for both the p_value for both the samples are greater than 0.05, both are Normal Distributions"
   ]
  },
  {
   "cell_type": "markdown",
   "metadata": {},
   "source": [
    "# Inference from Hypothesis Testing \n",
    "\n",
    "Three hypothesis tests were carried out \n",
    "\n",
    "1. When the relationship between the samples is tested with mean as a parameter with the help of t-test for two samples, the p_value in this test is greater than 18%, which is greater than the 5% level of significance, so we accept the null hypothesis and state that the mean of the new ball is less than or equal to the mean of the current golf ball\n",
    "2. When the standard deviation of the two samples are tested for a relationship using levne test, the p_value was about 61%, which is greater than 5% level of significance. So we accept the null hypothesis and reject the alternate hypothesis stating the variances of New sample are greater than or equal to the variance of the Current sample\n",
    "3. The third test was to show if the samples follows a normal distribution or not. Here both follow a Normal distribution"
   ]
  },
  {
   "cell_type": "markdown",
   "metadata": {},
   "source": [
    "# Calulating Pooled Standard Deviation and Sample Power"
   ]
  },
  {
   "cell_type": "code",
   "execution_count": 23,
   "metadata": {},
   "outputs": [],
   "source": [
    "from statsmodels.stats.power import ttest_power"
   ]
  },
  {
   "cell_type": "code",
   "execution_count": 24,
   "metadata": {},
   "outputs": [
    {
     "name": "stdout",
     "output_type": "stream",
     "text": [
      "9.224949186851925\n"
     ]
    }
   ],
   "source": [
    "s_pool = np.sqrt(((40-1)*np.var(data['Current']) + (40-1)*np.var(data['New'])) / (40+40-2))\n",
    "print(s_pool)"
   ]
  },
  {
   "cell_type": "code",
   "execution_count": 25,
   "metadata": {},
   "outputs": [
    {
     "name": "stdout",
     "output_type": "stream",
     "text": [
      "0.3008146650775173\n"
     ]
    }
   ],
   "source": [
    "de = (np.mean(data['Current']) - np.mean(data['New'])) / s_pool\n",
    "print(de)"
   ]
  },
  {
   "cell_type": "code",
   "execution_count": 26,
   "metadata": {},
   "outputs": [
    {
     "data": {
      "text/plain": [
       "0.45896651023292995"
      ]
     },
     "execution_count": 26,
     "metadata": {},
     "output_type": "execute_result"
    }
   ],
   "source": [
    "ttest_power(0.301,nobs=40,alpha=0.05,alternative='two-sided')"
   ]
  },
  {
   "cell_type": "markdown",
   "metadata": {},
   "source": [
    "# Inference from Pooled Standard Deviation and Sample Power\n",
    "When standard deviation was calculated for Current and New samples it was 8.752985 and 9.896904 respectively. Now when pooled standard deviation is calculated it shows 9.224949 which is between both the standard deviation. This helps in calculating the Delta value, which in turn helps for calculating the power of the test.\n",
    "\n",
    "There is a 45.9% chance rejecting the null hypothesis when it is actually false. \n",
    "Since the value is less than 50%, the chance of making a wrong decision is also high. "
   ]
  },
  {
   "cell_type": "markdown",
   "metadata": {},
   "source": [
    "# Recommendations for Par Inc., \n",
    "\n",
    "The following are few recommendations that I would do for Par Inc., \n",
    "1. From the hypothesis testing it can be recommended not to go for the New Golf ball as the mean is lesser than the current Golf ball and the variance of the new ball is also high when compared with the current ball.\n",
    "2. The standard deviation is increasing in the new sample when compared with the current sample, which means the distribution is more widely spreading, IQR also says there is an increase of 0.25 So the chances of customer not being satisfied for increase in price for the new ball is high."
   ]
  }
 ],
 "metadata": {
  "environment": {
   "name": "common-cpu.m54",
   "type": "gcloud",
   "uri": "gcr.io/deeplearning-platform-release/base-cpu:m54"
  },
  "kernelspec": {
   "display_name": "Python 3",
   "language": "python",
   "name": "python3"
  },
  "language_info": {
   "codemirror_mode": {
    "name": "ipython",
    "version": 3
   },
   "file_extension": ".py",
   "mimetype": "text/x-python",
   "name": "python",
   "nbconvert_exporter": "python",
   "pygments_lexer": "ipython3",
   "version": "3.7.8"
  }
 },
 "nbformat": 4,
 "nbformat_minor": 4
}
