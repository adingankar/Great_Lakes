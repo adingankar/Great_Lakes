{
  "nbformat": 4,
  "nbformat_minor": 0,
  "metadata": {
    "colab": {
      "name": "NEURAL_NETWORKS_ADINA_DINGANKAR",
      "provenance": [],
      "collapsed_sections": []
    },
    "kernelspec": {
      "name": "python3",
      "display_name": "Python 3"
    }
  },
  "cells": [
    {
      "cell_type": "code",
      "metadata": {
        "id": "rT5-T1g_5ZIf",
        "colab_type": "code",
        "colab": {}
      },
      "source": [
        "import numpy as np\n",
        "import h5py"
      ],
      "execution_count": 1,
      "outputs": []
    },
    {
      "cell_type": "code",
      "metadata": {
        "id": "kvFw962x5sXY",
        "colab_type": "code",
        "colab": {}
      },
      "source": [
        "!pip install -U -q PyDrive\n",
        "from pydrive.auth import GoogleAuth\n",
        "from pydrive.drive import GoogleDrive\n",
        "from google.colab import auth\n",
        "from oauth2client.client import GoogleCredentials"
      ],
      "execution_count": 4,
      "outputs": []
    },
    {
      "cell_type": "code",
      "metadata": {
        "id": "XXQNE0Ip67Ko",
        "colab_type": "code",
        "colab": {}
      },
      "source": [
        "auth.authenticate_user()\n",
        "gauth = GoogleAuth()\n",
        "gauth.credentials = GoogleCredentials.get_application_default()\n",
        "drive = GoogleDrive(gauth)"
      ],
      "execution_count": 6,
      "outputs": []
    },
    {
      "cell_type": "code",
      "metadata": {
        "id": "s04G2Inr7m4C",
        "colab_type": "code",
        "colab": {}
      },
      "source": [
        "import h5py\n",
        "import numpy as np"
      ],
      "execution_count": 7,
      "outputs": []
    },
    {
      "cell_type": "code",
      "metadata": {
        "id": "27m3Nwli7srJ",
        "colab_type": "code",
        "colab": {}
      },
      "source": [
        "h5f = drive.CreateFile({'id':'18sFt0Wc_rnvB7hOvfvB9hXk_f1ZiyGtx'}) \n",
        "h5f.GetContentFile('SVHN_single_grey1 (1).h5')"
      ],
      "execution_count": 8,
      "outputs": []
    },
    {
      "cell_type": "code",
      "metadata": {
        "id": "U2d_OH4L8Y3f",
        "colab_type": "code",
        "colab": {}
      },
      "source": [
        "h5f =h5py.File('SVHN_single_grey1 (1).h5','r')"
      ],
      "execution_count": 9,
      "outputs": []
    },
    {
      "cell_type": "code",
      "metadata": {
        "id": "6qqojvwF8jVq",
        "colab_type": "code",
        "colab": {}
      },
      "source": [
        "X_train = h5f['X_train'][:]\n",
        "y_train1= h5f['y_train'][:]\n",
        "X_test= h5f['X_test'][:]\n",
        "y_test1= h5f['y_test'][:]"
      ],
      "execution_count": 10,
      "outputs": []
    },
    {
      "cell_type": "code",
      "metadata": {
        "id": "vUY_whSv8pKN",
        "colab_type": "code",
        "colab": {
          "base_uri": "https://localhost:8080/",
          "height": 34
        },
        "outputId": "f7922e90-45cf-41b7-9776-5a41f67a6f7f"
      },
      "source": [
        "h5f.close"
      ],
      "execution_count": 11,
      "outputs": [
        {
          "output_type": "execute_result",
          "data": {
            "text/plain": [
              "<bound method File.close of <HDF5 file \"SVHN_single_grey1 (1).h5\" (mode r)>>"
            ]
          },
          "metadata": {
            "tags": []
          },
          "execution_count": 11
        }
      ]
    },
    {
      "cell_type": "code",
      "metadata": {
        "id": "bsAf5pic8t2U",
        "colab_type": "code",
        "colab": {}
      },
      "source": [
        "import numpy as np\n",
        "from keras.datasets import mnist\n",
        "from keras.models import Sequential"
      ],
      "execution_count": 12,
      "outputs": []
    },
    {
      "cell_type": "code",
      "metadata": {
        "id": "WbH1WmrA8zrN",
        "colab_type": "code",
        "colab": {}
      },
      "source": [
        "from keras.utils import np_utils"
      ],
      "execution_count": 13,
      "outputs": []
    },
    {
      "cell_type": "code",
      "metadata": {
        "id": "wA3siE7H84FN",
        "colab_type": "code",
        "colab": {}
      },
      "source": [
        "from keras.layers import Dense, Dropout, Activation, Flatten"
      ],
      "execution_count": 14,
      "outputs": []
    },
    {
      "cell_type": "code",
      "metadata": {
        "id": "Z0w7H4le89rT",
        "colab_type": "code",
        "colab": {}
      },
      "source": [
        "seed = 7\n",
        "np.random.seed(seed)"
      ],
      "execution_count": 15,
      "outputs": []
    },
    {
      "cell_type": "code",
      "metadata": {
        "id": "rqZxsMgQ9CKh",
        "colab_type": "code",
        "colab": {
          "base_uri": "https://localhost:8080/",
          "height": 626
        },
        "outputId": "07ef5eed-58ea-4435-9c55-af2a21dd7110"
      },
      "source": [
        "import matplotlib.pyplot as plt\n",
        "plt.figure(figsize=(10,1))\n",
        "for i in range(10):\n",
        "  plt.subplot(1,10,i+1)\n",
        "  plt.imshow(X_train[i], cmap=\"gray\")\n",
        "  plt.axis('off')\n",
        "  plt.show()\n",
        "  print('label for each of the above image:%s'%(y_train1[0:10]))"
      ],
      "execution_count": 16,
      "outputs": [
        {
          "output_type": "display_data",
          "data": {
            "image/png": "[encoded data removed]",
            "text/plain": [
              "<Figure size 720x72 with 1 Axes>"
            ]
          },
          "metadata": {
            "tags": [],
            "needs_background": "light"
          }
        },
        {
          "output_type": "stream",
          "text": [
            "label for each of the above image:[2 6 7 4 4 0 3 0 7 3]\n"
          ],
          "name": "stdout"
        },
        {
          "output_type": "display_data",
          "data": {
            "image/png": "[encoded data removed]",
            "text/plain": [
              "<Figure size 432x288 with 1 Axes>"
            ]
          },
          "metadata": {
            "tags": [],
            "needs_background": "light"
          }
        },
        {
          "output_type": "stream",
          "text": [
            "label for each of the above image:[2 6 7 4 4 0 3 0 7 3]\n"
          ],
          "name": "stdout"
        },
        {
          "output_type": "display_data",
          "data": {
            "image/png": "[encoded data removed]",
            "text/plain": [
              "<Figure size 432x288 with 1 Axes>"
            ]
          },
          "metadata": {
            "tags": [],
            "needs_background": "light"
          }
        },
        {
          "output_type": "stream",
          "text": [
            "label for each of the above image:[2 6 7 4 4 0 3 0 7 3]\n"
          ],
          "name": "stdout"
        },
        {
          "output_type": "display_data",
          "data": {
            "image/png": "[encoded data removed]",
            "text/plain": [
              "<Figure size 432x288 with 1 Axes>"
            ]
          },
          "metadata": {
            "tags": [],
            "needs_background": "light"
          }
        },
        {
          "output_type": "stream",
          "text": [
            "label for each of the above image:[2 6 7 4 4 0 3 0 7 3]\n"
          ],
          "name": "stdout"
        },
        {
          "output_type": "display_data",
          "data": {
            "image/png": "[encoded data removed]",
            "text/plain": [
              "<Figure size 432x288 with 1 Axes>"
            ]
          },
          "metadata": {
            "tags": [],
            "needs_background": "light"
          }
        },
        {
          "output_type": "stream",
          "text": [
            "label for each of the above image:[2 6 7 4 4 0 3 0 7 3]\n"
          ],
          "name": "stdout"
        },
        {
          "output_type": "display_data",
          "data": {
            "image/png": "[encoded data removed]",
            "text/plain": [
              "<Figure size 432x288 with 1 Axes>"
            ]
          },
          "metadata": {
            "tags": [],
            "needs_background": "light"
          }
        },
        {
          "output_type": "stream",
          "text": [
            "label for each of the above image:[2 6 7 4 4 0 3 0 7 3]\n"
          ],
          "name": "stdout"
        },
        {
          "output_type": "display_data",
          "data": {
            "image/png": "[encoded data removed]",
            "text/plain": [
              "<Figure size 432x288 with 1 Axes>"
            ]
          },
          "metadata": {
            "tags": [],
            "needs_background": "light"
          }
        },
        {
          "output_type": "stream",
          "text": [
            "label for each of the above image:[2 6 7 4 4 0 3 0 7 3]\n"
          ],
          "name": "stdout"
        },
        {
          "output_type": "display_data",
          "data": {
            "image/png": "[encoded data removed]",
            "text/plain": [
              "<Figure size 432x288 with 1 Axes>"
            ]
          },
          "metadata": {
            "tags": [],
            "needs_background": "light"
          }
        },
        {
          "output_type": "stream",
          "text": [
            "label for each of the above image:[2 6 7 4 4 0 3 0 7 3]\n"
          ],
          "name": "stdout"
        },
        {
          "output_type": "display_data",
          "data": {
            "image/png": "[encoded data removed]",
            "text/plain": [
              "<Figure size 432x288 with 1 Axes>"
            ]
          },
          "metadata": {
            "tags": [],
            "needs_background": "light"
          }
        },
        {
          "output_type": "stream",
          "text": [
            "label for each of the above image:[2 6 7 4 4 0 3 0 7 3]\n"
          ],
          "name": "stdout"
        },
        {
          "output_type": "display_data",
          "data": {
            "image/png": "[encoded data removed]",
            "text/plain": [
              "<Figure size 432x288 with 1 Axes>"
            ]
          },
          "metadata": {
            "tags": [],
            "needs_background": "light"
          }
        },
        {
          "output_type": "stream",
          "text": [
            "label for each of the above image:[2 6 7 4 4 0 3 0 7 3]\n"
          ],
          "name": "stdout"
        }
      ]
    },
    {
      "cell_type": "code",
      "metadata": {
        "id": "fl9DSlwL9HfL",
        "colab_type": "code",
        "colab": {}
      },
      "source": [
        "X_train= X_train.reshape(X_train.shape[0],1024)\n",
        "X_test = X_test.reshape(X_test.shape[0],1024)"
      ],
      "execution_count": 17,
      "outputs": []
    },
    {
      "cell_type": "code",
      "metadata": {
        "id": "910B1IGf9MSD",
        "colab_type": "code",
        "colab": {
          "base_uri": "https://localhost:8080/",
          "height": 51
        },
        "outputId": "c6a4fe3e-64d7-4953-cebd-a8c1a04aed3e"
      },
      "source": [
        "X_train= X_train/255.0\n",
        "X_test =X_test/255.0\n",
        "print('Training set',X_train.shape,y_train1.shape)\n",
        "print('Testset',X_test.shape,y_test1.shape)"
      ],
      "execution_count": 18,
      "outputs": [
        {
          "output_type": "stream",
          "text": [
            "Training set (42000, 1024) (42000,)\n",
            "Testset (18000, 1024) (18000,)\n"
          ],
          "name": "stdout"
        }
      ]
    },
    {
      "cell_type": "code",
      "metadata": {
        "id": "NOArHyA59Rau",
        "colab_type": "code",
        "colab": {
          "base_uri": "https://localhost:8080/",
          "height": 51
        },
        "outputId": "be5706f5-6c56-464d-e512-47757f9301be"
      },
      "source": [
        "print(X_test.shape)\n",
        "print(y_test1.shape)"
      ],
      "execution_count": 19,
      "outputs": [
        {
          "output_type": "stream",
          "text": [
            "(18000, 1024)\n",
            "(18000,)\n"
          ],
          "name": "stdout"
        }
      ]
    },
    {
      "cell_type": "code",
      "metadata": {
        "id": "dPhNrvVE9VzO",
        "colab_type": "code",
        "colab": {
          "base_uri": "https://localhost:8080/",
          "height": 34
        },
        "outputId": "79f265a2-dc2a-4e43-c451-76dff7cfcdcc"
      },
      "source": [
        "y_train = np_utils.to_categorical(y_train1)\n",
        "y_test=np_utils.to_categorical(y_test1)\n",
        "\n",
        "#no of classes\n",
        "num_classes= y_test.shape[1]\n",
        "num_hidden=32\n",
        "num_classes"
      ],
      "execution_count": 20,
      "outputs": [
        {
          "output_type": "execute_result",
          "data": {
            "text/plain": [
              "10"
            ]
          },
          "metadata": {
            "tags": []
          },
          "execution_count": 20
        }
      ]
    },
    {
      "cell_type": "code",
      "metadata": {
        "id": "WjFkz1D19bpD",
        "colab_type": "code",
        "colab": {}
      },
      "source": [
        "x_tr = []\n",
        "for i in range (42000):\n",
        "  x_tr.append(X_train[i,:].flatten())\n",
        "x_te=[]\n",
        "for i in range(18000):\n",
        "  x_te.append(X_test[i,:].flatten())"
      ],
      "execution_count": 21,
      "outputs": []
    },
    {
      "cell_type": "code",
      "metadata": {
        "id": "lDTcd7ww9m7c",
        "colab_type": "code",
        "colab": {}
      },
      "source": [
        "x_tr =x_tr[:2000]\n",
        "x_te= x_te[:2000]\n",
        "\n",
        "y_tr= y_train1[0:2000]\n",
        "y_te =y_test1[0:2000]"
      ],
      "execution_count": 22,
      "outputs": []
    },
    {
      "cell_type": "code",
      "metadata": {
        "id": "vE5_w5t-9rM3",
        "colab_type": "code",
        "colab": {
          "base_uri": "https://localhost:8080/",
          "height": 85
        },
        "outputId": "8a57fd57-1b95-4a5b-d5d8-8d35d107e2ac"
      },
      "source": [
        "print(len(x_tr))\n",
        "print(len(y_tr))\n",
        "print(len(x_te))\n",
        "print(len(y_te))"
      ],
      "execution_count": 23,
      "outputs": [
        {
          "output_type": "stream",
          "text": [
            "2000\n",
            "2000\n",
            "2000\n",
            "2000\n"
          ],
          "name": "stdout"
        }
      ]
    },
    {
      "cell_type": "code",
      "metadata": {
        "id": "7cwFokf_9zSY",
        "colab_type": "code",
        "colab": {}
      },
      "source": [
        "a=[]\n",
        "j=[]\n",
        "def knnvalue(k):\n",
        "  from sklearn.neighbors import KNeighborsClassifier\n",
        "  NHH = KNeighborsClassifier(n_neighbors=k,weights='uniform')\n",
        "  NHH.fit(x_tr,y_tr)\n",
        "  predicted_labels= NHH.predict(x_te)\n",
        "  from sklearn.metrics import accuracy_score\n",
        "  ascore= accuracy_score(y_te,predicted_labels)\n",
        "  MSE= 1-ascore\n",
        "  a.append(MSE)\n",
        "  j.append(k)\n",
        "  print(ascore)"
      ],
      "execution_count": 24,
      "outputs": []
    },
    {
      "cell_type": "code",
      "metadata": {
        "id": "xb_eEZKp918t",
        "colab_type": "code",
        "colab": {
          "base_uri": "https://localhost:8080/",
          "height": 272
        },
        "outputId": "7ba469ee-8fc9-49a4-92e9-1ee033bb8b8a"
      },
      "source": [
        "for i in range(1,30,2):\n",
        "  knnvalue(i)"
      ],
      "execution_count": 25,
      "outputs": [
        {
          "output_type": "stream",
          "text": [
            "0.2975\n",
            "0.292\n",
            "0.3015\n",
            "0.307\n",
            "0.3055\n",
            "0.311\n",
            "0.2975\n",
            "0.294\n",
            "0.2975\n",
            "0.2935\n",
            "0.2945\n",
            "0.2955\n",
            "0.2865\n",
            "0.2805\n",
            "0.279\n"
          ],
          "name": "stdout"
        }
      ]
    },
    {
      "cell_type": "code",
      "metadata": {
        "id": "oZEWrknc-iiu",
        "colab_type": "code",
        "colab": {}
      },
      "source": [
        "from sklearn.neighbors import KNeighborsClassifier\n",
        "NHH = KNeighborsClassifier(n_neighbors=11,weights='uniform')\n",
        "NHH.fit(x_tr,y_tr)\n",
        "pred= NHH.predict(x_te)"
      ],
      "execution_count": 26,
      "outputs": []
    },
    {
      "cell_type": "code",
      "metadata": {
        "id": "scIJKB3r-qZ_",
        "colab_type": "code",
        "colab": {
          "base_uri": "https://localhost:8080/",
          "height": 34
        },
        "outputId": "eeb31856-21b7-4020-d994-21bb0a4d895c"
      },
      "source": [
        "len(pred)"
      ],
      "execution_count": 27,
      "outputs": [
        {
          "output_type": "execute_result",
          "data": {
            "text/plain": [
              "2000"
            ]
          },
          "metadata": {
            "tags": []
          },
          "execution_count": 27
        }
      ]
    },
    {
      "cell_type": "code",
      "metadata": {
        "id": "8gMedp-R-tHu",
        "colab_type": "code",
        "colab": {
          "base_uri": "https://localhost:8080/",
          "height": 34
        },
        "outputId": "4f8a1fb7-4415-4ead-cc8a-d2ca69dd5351"
      },
      "source": [
        "pred[0]"
      ],
      "execution_count": 28,
      "outputs": [
        {
          "output_type": "execute_result",
          "data": {
            "text/plain": [
              "6"
            ]
          },
          "metadata": {
            "tags": []
          },
          "execution_count": 28
        }
      ]
    },
    {
      "cell_type": "code",
      "metadata": {
        "id": "jBnEBLEm-vlH",
        "colab_type": "code",
        "colab": {
          "base_uri": "https://localhost:8080/",
          "height": 34
        },
        "outputId": "a2b7538d-2eb0-44c8-e9cd-cdeb3c2799f4"
      },
      "source": [
        "pred[1]"
      ],
      "execution_count": 29,
      "outputs": [
        {
          "output_type": "execute_result",
          "data": {
            "text/plain": [
              "0"
            ]
          },
          "metadata": {
            "tags": []
          },
          "execution_count": 29
        }
      ]
    },
    {
      "cell_type": "code",
      "metadata": {
        "id": "KdNm_RZ9-zy_",
        "colab_type": "code",
        "colab": {
          "base_uri": "https://localhost:8080/",
          "height": 34
        },
        "outputId": "a61f9a19-9651-4788-aec8-a0d48ef2ae83"
      },
      "source": [
        "y_te[0]"
      ],
      "execution_count": 30,
      "outputs": [
        {
          "output_type": "execute_result",
          "data": {
            "text/plain": [
              "1"
            ]
          },
          "metadata": {
            "tags": []
          },
          "execution_count": 30
        }
      ]
    },
    {
      "cell_type": "code",
      "metadata": {
        "id": "rXwpTGAV-4OI",
        "colab_type": "code",
        "colab": {
          "base_uri": "https://localhost:8080/",
          "height": 306
        },
        "outputId": "8c494093-2983-4645-f365-52e9516aaca5"
      },
      "source": [
        "from sklearn.metrics import confusion_matrix\n",
        "from sklearn.metrics import classification_report\n",
        "print(classification_report(pred,y_te))"
      ],
      "execution_count": 31,
      "outputs": [
        {
          "output_type": "stream",
          "text": [
            "              precision    recall  f1-score   support\n",
            "\n",
            "           0       0.48      0.29      0.36       363\n",
            "           1       0.55      0.31      0.40       325\n",
            "           2       0.39      0.26      0.31       277\n",
            "           3       0.19      0.22      0.21       164\n",
            "           4       0.46      0.42      0.44       219\n",
            "           5       0.20      0.33      0.25       132\n",
            "           6       0.25      0.27      0.26       190\n",
            "           7       0.32      0.49      0.39       132\n",
            "           8       0.10      0.32      0.15        60\n",
            "           9       0.18      0.26      0.21       138\n",
            "\n",
            "    accuracy                           0.31      2000\n",
            "   macro avg       0.31      0.32      0.30      2000\n",
            "weighted avg       0.37      0.31      0.32      2000\n",
            "\n"
          ],
          "name": "stdout"
        }
      ]
    },
    {
      "cell_type": "code",
      "metadata": {
        "id": "nAmeb6ou_3eS",
        "colab_type": "code",
        "colab": {}
      },
      "source": [
        "import keras\n",
        "from keras import losses\n",
        "from keras import optimizers\n",
        "from keras.layers import Dropout,MaxPooling2D\n",
        "from keras.layers import BatchNormalization"
      ],
      "execution_count": 32,
      "outputs": []
    },
    {
      "cell_type": "code",
      "metadata": {
        "id": "92ZSjGou_5mX",
        "colab_type": "code",
        "colab": {
          "base_uri": "https://localhost:8080/",
          "height": 1000
        },
        "outputId": "daf67c27-5d00-4cf4-ed5c-2321e09068da"
      },
      "source": [
        "def nn_model():\n",
        "  model= Sequential()\n",
        "  model.add(BatchNormalization(input_shape=((1024,)))) \n",
        "  model.add(Dense(256,activation='relu'))\n",
        "  model.add(Dense(64,activation='relu'))\n",
        "  model.add(Dense(32,activation='relu'))\n",
        "  model.add(Dense(num_classes,activation='softmax'))\n",
        "  # compile the model\n",
        "  sgd= optimizers.Adam(lr =1e-3)\n",
        "  model.compile(loss=losses.categorical_crossentropy,optimizer=sgd,metrics=['accuracy'])\n",
        "  return model\n",
        "# Build the model\n",
        "model = nn_model()\n",
        "# Fit the model\n",
        "history = model.fit(X_test,y_test, validation_data=(X_test,y_test),epochs=30,batch_size=200,verbose=2)\n",
        "scores= model.evaluate(X_test,y_test,verbose=0)\n",
        "print(\"Error:%.2f%%\" %(100-scores[1]*100))\n",
        "model.summary()"
      ],
      "execution_count": 33,
      "outputs": [
        {
          "output_type": "stream",
          "text": [
            "Epoch 1/30\n",
            "90/90 - 2s - loss: 1.9485 - accuracy: 0.3078 - val_loss: 1.8427 - val_accuracy: 0.5071\n",
            "Epoch 2/30\n",
            "90/90 - 1s - loss: 1.2215 - accuracy: 0.6099 - val_loss: 1.3342 - val_accuracy: 0.6758\n",
            "Epoch 3/30\n",
            "90/90 - 1s - loss: 1.0201 - accuracy: 0.6783 - val_loss: 1.0299 - val_accuracy: 0.7236\n",
            "Epoch 4/30\n",
            "90/90 - 1s - loss: 0.8897 - accuracy: 0.7170 - val_loss: 0.8418 - val_accuracy: 0.7527\n",
            "Epoch 5/30\n",
            "90/90 - 1s - loss: 0.8214 - accuracy: 0.7409 - val_loss: 0.7695 - val_accuracy: 0.7628\n",
            "Epoch 6/30\n",
            "90/90 - 1s - loss: 0.7609 - accuracy: 0.7593 - val_loss: 0.6855 - val_accuracy: 0.7875\n",
            "Epoch 7/30\n",
            "90/90 - 1s - loss: 0.7000 - accuracy: 0.7816 - val_loss: 0.6028 - val_accuracy: 0.8122\n",
            "Epoch 8/30\n",
            "90/90 - 1s - loss: 0.6432 - accuracy: 0.8011 - val_loss: 0.5515 - val_accuracy: 0.8286\n",
            "Epoch 9/30\n",
            "90/90 - 1s - loss: 0.6164 - accuracy: 0.8026 - val_loss: 0.5168 - val_accuracy: 0.8414\n",
            "Epoch 10/30\n",
            "90/90 - 1s - loss: 0.5877 - accuracy: 0.8132 - val_loss: 0.5121 - val_accuracy: 0.8384\n",
            "Epoch 11/30\n",
            "90/90 - 1s - loss: 0.5479 - accuracy: 0.8276 - val_loss: 0.4710 - val_accuracy: 0.8546\n",
            "Epoch 12/30\n",
            "90/90 - 1s - loss: 0.5190 - accuracy: 0.8343 - val_loss: 0.4878 - val_accuracy: 0.8463\n",
            "Epoch 13/30\n",
            "90/90 - 1s - loss: 0.5151 - accuracy: 0.8353 - val_loss: 0.4036 - val_accuracy: 0.8764\n",
            "Epoch 14/30\n",
            "90/90 - 1s - loss: 0.4668 - accuracy: 0.8528 - val_loss: 0.3955 - val_accuracy: 0.8807\n",
            "Epoch 15/30\n",
            "90/90 - 1s - loss: 0.4471 - accuracy: 0.8589 - val_loss: 0.3819 - val_accuracy: 0.8814\n",
            "Epoch 16/30\n",
            "90/90 - 1s - loss: 0.4357 - accuracy: 0.8611 - val_loss: 0.3549 - val_accuracy: 0.8902\n",
            "Epoch 17/30\n",
            "90/90 - 1s - loss: 0.4051 - accuracy: 0.8701 - val_loss: 0.3759 - val_accuracy: 0.8825\n",
            "Epoch 18/30\n",
            "90/90 - 1s - loss: 0.4143 - accuracy: 0.8687 - val_loss: 0.3858 - val_accuracy: 0.8781\n",
            "Epoch 19/30\n",
            "90/90 - 1s - loss: 0.3846 - accuracy: 0.8799 - val_loss: 0.3150 - val_accuracy: 0.9018\n",
            "Epoch 20/30\n",
            "90/90 - 1s - loss: 0.3719 - accuracy: 0.8821 - val_loss: 0.3037 - val_accuracy: 0.9063\n",
            "Epoch 21/30\n",
            "90/90 - 1s - loss: 0.3534 - accuracy: 0.8894 - val_loss: 0.2904 - val_accuracy: 0.9111\n",
            "Epoch 22/30\n",
            "90/90 - 1s - loss: 0.3472 - accuracy: 0.8903 - val_loss: 0.2682 - val_accuracy: 0.9186\n",
            "Epoch 23/30\n",
            "90/90 - 1s - loss: 0.3430 - accuracy: 0.8909 - val_loss: 0.2638 - val_accuracy: 0.9188\n",
            "Epoch 24/30\n",
            "90/90 - 1s - loss: 0.3177 - accuracy: 0.8969 - val_loss: 0.2810 - val_accuracy: 0.9144\n",
            "Epoch 25/30\n",
            "90/90 - 1s - loss: 0.3336 - accuracy: 0.8934 - val_loss: 0.2391 - val_accuracy: 0.9271\n",
            "Epoch 26/30\n",
            "90/90 - 1s - loss: 0.2953 - accuracy: 0.9037 - val_loss: 0.2485 - val_accuracy: 0.9228\n",
            "Epoch 27/30\n",
            "90/90 - 1s - loss: 0.2957 - accuracy: 0.9053 - val_loss: 0.2192 - val_accuracy: 0.9338\n",
            "Epoch 28/30\n",
            "90/90 - 1s - loss: 0.2895 - accuracy: 0.9078 - val_loss: 0.2511 - val_accuracy: 0.9238\n",
            "Epoch 29/30\n",
            "90/90 - 1s - loss: 0.2772 - accuracy: 0.9107 - val_loss: 0.2146 - val_accuracy: 0.9342\n",
            "Epoch 30/30\n",
            "90/90 - 1s - loss: 0.2694 - accuracy: 0.9124 - val_loss: 0.2159 - val_accuracy: 0.9338\n",
            "Error:6.62%\n",
            "Model: \"sequential\"\n",
            "_________________________________________________________________\n",
            "Layer (type)                 Output Shape              Param #   \n",
            "=================================================================\n",
            "batch_normalization (BatchNo (None, 1024)              4096      \n",
            "_________________________________________________________________\n",
            "dense (Dense)                (None, 256)               262400    \n",
            "_________________________________________________________________\n",
            "dense_1 (Dense)              (None, 64)                16448     \n",
            "_________________________________________________________________\n",
            "dense_2 (Dense)              (None, 32)                2080      \n",
            "_________________________________________________________________\n",
            "dense_3 (Dense)              (None, 10)                330       \n",
            "=================================================================\n",
            "Total params: 285,354\n",
            "Trainable params: 283,306\n",
            "Non-trainable params: 2,048\n",
            "_________________________________________________________________\n"
          ],
          "name": "stdout"
        }
      ]
    },
    {
      "cell_type": "code",
      "metadata": {
        "id": "P2kL4B_QAkWU",
        "colab_type": "code",
        "colab": {
          "base_uri": "https://localhost:8080/",
          "height": 68
        },
        "outputId": "d13d5ea0-ddff-4316-d35b-f255c911fef0"
      },
      "source": [
        "Y_pred= model.predict(X_test)\n",
        "print(np.argmax(Y_pred[2]))\n",
        "print(np.argmax(y_test[2]))\n",
        "print(history.history.keys())"
      ],
      "execution_count": 34,
      "outputs": [
        {
          "output_type": "stream",
          "text": [
            "2\n",
            "2\n",
            "dict_keys(['loss', 'accuracy', 'val_loss', 'val_accuracy'])\n"
          ],
          "name": "stdout"
        }
      ]
    },
    {
      "cell_type": "code",
      "metadata": {
        "id": "L28tSopwB9uK",
        "colab_type": "code",
        "colab": {
          "base_uri": "https://localhost:8080/",
          "height": 295
        },
        "outputId": "4eef124d-2cf4-4800-e62a-4291bd29af23"
      },
      "source": [
        "plt.plot(history.history['loss'])\n",
        "plt.plot(history.history['val_loss'])\n",
        "plt.title('model loss')\n",
        "plt.ylabel('loss')\n",
        "plt.xlabel('epoch')\n",
        "plt.legend(['train','test'],loc='upper left')\n",
        "plt.show()\n"
      ],
      "execution_count": 37,
      "outputs": [
        {
          "output_type": "display_data",
          "data": {
            "image/png": "[encoded data removed]",
            "text/plain": [
              "<Figure size 432x288 with 1 Axes>"
            ]
          },
          "metadata": {
            "tags": [],
            "needs_background": "light"
          }
        }
      ]
    }
  ]
}